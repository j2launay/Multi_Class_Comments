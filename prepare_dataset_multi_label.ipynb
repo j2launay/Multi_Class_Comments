{
 "cells": [
  {
   "cell_type": "code",
   "execution_count": 1,
   "metadata": {},
   "outputs": [
    {
     "name": "stdout",
     "output_type": "stream",
     "text": [
      "       Question                                           freetext  \\\n",
      "0  Improvements  Wash and sanitise properly instead of doing it...   \n",
      "1  Improvements  Maybe have STR contacts number as only had the...   \n",
      "2  Improvements  Take on the problem, rather than rushing to di...   \n",
      "3  Improvements  Take on the problem, rather than rushing to di...   \n",
      "4  Improvements  Your channels of communication are old fashion...   \n",
      "\n",
      "                         Theme  \n",
      "0                  Cleanliness  \n",
      "1  CommunicationContactDetails  \n",
      "2         TreatmentIneffective  \n",
      "3              TreatmentRushed  \n",
      "4  CommunicationContactDetails  \n"
     ]
    }
   ],
   "source": [
    "import pandas as pd\n",
    "import numpy as np\n",
    "\n",
    "# Load the data\n",
    "data_path = 'data/theming_data_iwgc_25_03_2024.xlsx'  # Update the path if needed\n",
    "data = pd.read_excel(data_path)\n",
    "print(data.head())\n",
    "\n",
    "num_labels = 15"
   ]
  },
  {
   "cell_type": "code",
   "execution_count": 2,
   "metadata": {},
   "outputs": [],
   "source": [
    "def prepare_dataset(dataset, new_filename, text_column_name, label_column_name):\n",
    "    # dictionary of lists\n",
    "    dict_dataset = {'text': dataset[text_column_name], 'label': dataset[label_column_name]}\n",
    "    \n",
    "    df = pd.DataFrame(dict_dataset)\n",
    "        \n",
    "    # saving the dataframe\n",
    "    df.to_csv(new_filename)\n",
    "    return df\n",
    "\n",
    "df = prepare_dataset(data, 'theme.csv', 'freetext', 'Theme')"
   ]
  },
  {
   "cell_type": "code",
   "execution_count": 3,
   "metadata": {},
   "outputs": [],
   "source": [
    "def keep_top_n_classes(df, num_labels):\n",
    "    df = df.loc[df['label'].isin(df['label'].value_counts().head(num_labels).index)]\n",
    "    return df\n",
    "top_df = keep_top_n_classes(df, num_labels)"
   ]
  },
  {
   "cell_type": "code",
   "execution_count": 4,
   "metadata": {},
   "outputs": [
    {
     "data": {
      "text/html": [
       "<div>\n",
       "<style scoped>\n",
       "    .dataframe tbody tr th:only-of-type {\n",
       "        vertical-align: middle;\n",
       "    }\n",
       "\n",
       "    .dataframe tbody tr th {\n",
       "        vertical-align: top;\n",
       "    }\n",
       "\n",
       "    .dataframe thead th {\n",
       "        text-align: right;\n",
       "    }\n",
       "</style>\n",
       "<table border=\"1\" class=\"dataframe\">\n",
       "  <thead>\n",
       "    <tr style=\"text-align: right;\">\n",
       "      <th></th>\n",
       "      <th>text</th>\n",
       "      <th>label</th>\n",
       "    </tr>\n",
       "  </thead>\n",
       "  <tbody>\n",
       "    <tr>\n",
       "      <th>6</th>\n",
       "      <td>Pharmacy wait times \\nWaited nearly an hour fo...</td>\n",
       "      <td>TimeWaitingUnspecified</td>\n",
       "    </tr>\n",
       "    <tr>\n",
       "      <th>13</th>\n",
       "      <td>to improve waiting time</td>\n",
       "      <td>TimeWaitingUnspecified</td>\n",
       "    </tr>\n",
       "    <tr>\n",
       "      <th>15</th>\n",
       "      <td>Giving the patient their diagnosis on paper ra...</td>\n",
       "      <td>CommunicationInformationForPatients</td>\n",
       "    </tr>\n",
       "    <tr>\n",
       "      <th>18</th>\n",
       "      <td>Surprised that there were only 3 appointments.</td>\n",
       "      <td>TreatmentMore</td>\n",
       "    </tr>\n",
       "    <tr>\n",
       "      <th>20</th>\n",
       "      <td>None really as far as District Nurses were con...</td>\n",
       "      <td>CommunicationWithPatients</td>\n",
       "    </tr>\n",
       "    <tr>\n",
       "      <th>21</th>\n",
       "      <td>None really as far as District Nurses were con...</td>\n",
       "      <td>TimeWaitingUnspecified</td>\n",
       "    </tr>\n",
       "    <tr>\n",
       "      <th>23</th>\n",
       "      <td>Have a client facilitate with staff as a volun...</td>\n",
       "      <td>StaffAvailability</td>\n",
       "    </tr>\n",
       "    <tr>\n",
       "      <th>24</th>\n",
       "      <td>Have a client facilitate with staff as a volun...</td>\n",
       "      <td>StaffKnowledgeTraining</td>\n",
       "    </tr>\n",
       "    <tr>\n",
       "      <th>30</th>\n",
       "      <td>More sessions</td>\n",
       "      <td>TreatmentMore</td>\n",
       "    </tr>\n",
       "    <tr>\n",
       "      <th>32</th>\n",
       "      <td>Maurice was nosey, and overbearing,</td>\n",
       "      <td>StaffProfessionalism</td>\n",
       "    </tr>\n",
       "  </tbody>\n",
       "</table>\n",
       "</div>"
      ],
      "text/plain": [
       "                                                 text  \\\n",
       "6   Pharmacy wait times \\nWaited nearly an hour fo...   \n",
       "13                            to improve waiting time   \n",
       "15  Giving the patient their diagnosis on paper ra...   \n",
       "18     Surprised that there were only 3 appointments.   \n",
       "20  None really as far as District Nurses were con...   \n",
       "21  None really as far as District Nurses were con...   \n",
       "23  Have a client facilitate with staff as a volun...   \n",
       "24  Have a client facilitate with staff as a volun...   \n",
       "30                                      More sessions   \n",
       "32                Maurice was nosey, and overbearing,   \n",
       "\n",
       "                                  label  \n",
       "6                TimeWaitingUnspecified  \n",
       "13               TimeWaitingUnspecified  \n",
       "15  CommunicationInformationForPatients  \n",
       "18                        TreatmentMore  \n",
       "20            CommunicationWithPatients  \n",
       "21               TimeWaitingUnspecified  \n",
       "23                    StaffAvailability  \n",
       "24               StaffKnowledgeTraining  \n",
       "30                        TreatmentMore  \n",
       "32                 StaffProfessionalism  "
      ]
     },
     "execution_count": 4,
     "metadata": {},
     "output_type": "execute_result"
    }
   ],
   "source": [
    "top_df.head(10)\n"
   ]
  },
  {
   "cell_type": "code",
   "execution_count": 5,
   "metadata": {},
   "outputs": [
    {
     "name": "stderr",
     "output_type": "stream",
     "text": [
      "C:\\Users\\Julien Delaunay\\AppData\\Local\\Temp\\ipykernel_17732\\3280817291.py:2: SettingWithCopyWarning: \n",
      "A value is trying to be set on a copy of a slice from a DataFrame\n",
      "\n",
      "See the caveats in the documentation: https://pandas.pydata.org/pandas-docs/stable/user_guide/indexing.html#returning-a-view-versus-a-copy\n",
      "  top_df['label'].replace({label:i}, inplace=True)\n"
     ]
    }
   ],
   "source": [
    "for i, label in enumerate(top_df['label'].unique()):\n",
    "        top_df['label'].replace({label:i}, inplace=True)"
   ]
  },
  {
   "cell_type": "code",
   "execution_count": 6,
   "metadata": {},
   "outputs": [
    {
     "data": {
      "text/html": [
       "<div>\n",
       "<style scoped>\n",
       "    .dataframe tbody tr th:only-of-type {\n",
       "        vertical-align: middle;\n",
       "    }\n",
       "\n",
       "    .dataframe tbody tr th {\n",
       "        vertical-align: top;\n",
       "    }\n",
       "\n",
       "    .dataframe thead th {\n",
       "        text-align: right;\n",
       "    }\n",
       "</style>\n",
       "<table border=\"1\" class=\"dataframe\">\n",
       "  <thead>\n",
       "    <tr style=\"text-align: right;\">\n",
       "      <th></th>\n",
       "      <th>text</th>\n",
       "      <th>label</th>\n",
       "    </tr>\n",
       "  </thead>\n",
       "  <tbody>\n",
       "    <tr>\n",
       "      <th>0</th>\n",
       "      <td>\\nStaffing shortages and cut backs are taking ...</td>\n",
       "      <td>[4]</td>\n",
       "    </tr>\n",
       "    <tr>\n",
       "      <th>1</th>\n",
       "      <td>#\\nStaff very friendly always there if needed ...</td>\n",
       "      <td>[10, 11]</td>\n",
       "    </tr>\n",
       "    <tr>\n",
       "      <th>2</th>\n",
       "      <td>'Cos it is good, they helped me and you have h...</td>\n",
       "      <td>[11]</td>\n",
       "    </tr>\n",
       "    <tr>\n",
       "      <th>3</th>\n",
       "      <td>* As someone who prefers face-to-face appointm...</td>\n",
       "      <td>[3, 4, 8, 9]</td>\n",
       "    </tr>\n",
       "    <tr>\n",
       "      <th>4</th>\n",
       "      <td>* Give use more preparation to what to bring t...</td>\n",
       "      <td>[1]</td>\n",
       "    </tr>\n",
       "  </tbody>\n",
       "</table>\n",
       "</div>"
      ],
      "text/plain": [
       "                                                text         label\n",
       "0  \\nStaffing shortages and cut backs are taking ...           [4]\n",
       "1  #\\nStaff very friendly always there if needed ...      [10, 11]\n",
       "2  'Cos it is good, they helped me and you have h...          [11]\n",
       "3  * As someone who prefers face-to-face appointm...  [3, 4, 8, 9]\n",
       "4  * Give use more preparation to what to bring t...           [1]"
      ]
     },
     "execution_count": 6,
     "metadata": {},
     "output_type": "execute_result"
    }
   ],
   "source": [
    "grouped_texts = top_df.groupby('text').agg({'label': lambda x: x.tolist()})\n",
    "grouped_texts = grouped_texts.reset_index(drop=False)\n",
    "grouped_texts['label'] = grouped_texts['label']\n",
    "grouped_texts.head()"
   ]
  },
  {
   "cell_type": "code",
   "execution_count": 7,
   "metadata": {},
   "outputs": [],
   "source": [
    "label_lists = grouped_texts['label'].tolist()\n",
    "sparse_label_lists = []\n",
    "for labels in label_lists:\n",
    "    mat = np.zeros(num_labels)\n",
    "    for label in labels:\n",
    "        mat[label] = 1\n",
    "    sparse_label_lists.append(mat)"
   ]
  },
  {
   "cell_type": "code",
   "execution_count": 8,
   "metadata": {},
   "outputs": [
    {
     "data": {
      "text/html": [
       "<div>\n",
       "<style scoped>\n",
       "    .dataframe tbody tr th:only-of-type {\n",
       "        vertical-align: middle;\n",
       "    }\n",
       "\n",
       "    .dataframe tbody tr th {\n",
       "        vertical-align: top;\n",
       "    }\n",
       "\n",
       "    .dataframe thead th {\n",
       "        text-align: right;\n",
       "    }\n",
       "</style>\n",
       "<table border=\"1\" class=\"dataframe\">\n",
       "  <thead>\n",
       "    <tr style=\"text-align: right;\">\n",
       "      <th></th>\n",
       "      <th>text</th>\n",
       "      <th>label</th>\n",
       "    </tr>\n",
       "  </thead>\n",
       "  <tbody>\n",
       "    <tr>\n",
       "      <th>0</th>\n",
       "      <td>\\nStaffing shortages and cut backs are taking ...</td>\n",
       "      <td>[0.0, 0.0, 0.0, 0.0, 1.0, 0.0, 0.0, 0.0, 0.0, ...</td>\n",
       "    </tr>\n",
       "    <tr>\n",
       "      <th>1</th>\n",
       "      <td>#\\nStaff very friendly always there if needed ...</td>\n",
       "      <td>[0.0, 0.0, 0.0, 0.0, 0.0, 0.0, 0.0, 0.0, 0.0, ...</td>\n",
       "    </tr>\n",
       "    <tr>\n",
       "      <th>2</th>\n",
       "      <td>'Cos it is good, they helped me and you have h...</td>\n",
       "      <td>[0.0, 0.0, 0.0, 0.0, 0.0, 0.0, 0.0, 0.0, 0.0, ...</td>\n",
       "    </tr>\n",
       "    <tr>\n",
       "      <th>3</th>\n",
       "      <td>* As someone who prefers face-to-face appointm...</td>\n",
       "      <td>[0.0, 0.0, 0.0, 1.0, 1.0, 0.0, 0.0, 0.0, 1.0, ...</td>\n",
       "    </tr>\n",
       "    <tr>\n",
       "      <th>4</th>\n",
       "      <td>* Give use more preparation to what to bring t...</td>\n",
       "      <td>[0.0, 1.0, 0.0, 0.0, 0.0, 0.0, 0.0, 0.0, 0.0, ...</td>\n",
       "    </tr>\n",
       "  </tbody>\n",
       "</table>\n",
       "</div>"
      ],
      "text/plain": [
       "                                                text  \\\n",
       "0  \\nStaffing shortages and cut backs are taking ...   \n",
       "1  #\\nStaff very friendly always there if needed ...   \n",
       "2  'Cos it is good, they helped me and you have h...   \n",
       "3  * As someone who prefers face-to-face appointm...   \n",
       "4  * Give use more preparation to what to bring t...   \n",
       "\n",
       "                                               label  \n",
       "0  [0.0, 0.0, 0.0, 0.0, 1.0, 0.0, 0.0, 0.0, 0.0, ...  \n",
       "1  [0.0, 0.0, 0.0, 0.0, 0.0, 0.0, 0.0, 0.0, 0.0, ...  \n",
       "2  [0.0, 0.0, 0.0, 0.0, 0.0, 0.0, 0.0, 0.0, 0.0, ...  \n",
       "3  [0.0, 0.0, 0.0, 1.0, 1.0, 0.0, 0.0, 0.0, 1.0, ...  \n",
       "4  [0.0, 1.0, 0.0, 0.0, 0.0, 0.0, 0.0, 0.0, 0.0, ...  "
      ]
     },
     "execution_count": 8,
     "metadata": {},
     "output_type": "execute_result"
    }
   ],
   "source": [
    "grouped_texts['label'] = sparse_label_lists\n",
    "grouped_texts.head()"
   ]
  },
  {
   "cell_type": "code",
   "execution_count": 9,
   "metadata": {},
   "outputs": [],
   "source": [
    "grouped_texts.to_csv('multi-label-theme.csv')"
   ]
  }
 ],
 "metadata": {
  "kernelspec": {
   "display_name": "iwgc",
   "language": "python",
   "name": "python3"
  },
  "language_info": {
   "codemirror_mode": {
    "name": "ipython",
    "version": 3
   },
   "file_extension": ".py",
   "mimetype": "text/x-python",
   "name": "python",
   "nbconvert_exporter": "python",
   "pygments_lexer": "ipython3",
   "version": "3.11.7"
  }
 },
 "nbformat": 4,
 "nbformat_minor": 2
}
