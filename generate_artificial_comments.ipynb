{
 "cells": [
  {
   "cell_type": "code",
   "execution_count": 7,
   "metadata": {},
   "outputs": [
    {
     "name": "stdout",
     "output_type": "stream",
     "text": [
      "<|system|>\n",
      "You are a chatbot who generate comments from users of an healthcare platform. Your objective is to produce comments that are representative of various categories of comments given by the user.Here are some examples of comments with their corresponding labels. They mean belong to several labels: \n",
      "Wash and sanitise properly instead of doing it once.,Cleanliness \n",
      "Been waiting for bin to be emptied and hasn't.,Cleanliness \n",
      "Maybe have STR contacts number as only had the generic office number so i could have direct contact.,CommunicationContactDetails \n",
      "Your channels of communication are old fashioned and out dated. Patients using district nursing services should have a named nurse and a mobile phone number for that nurse. Urgent communication should never rely on the 111 service There should be 24/7 365 phone access .,CommunicationContactDetails \n",
      "Upon entering the building I was unsure which check in reception I should report to.,FacilitiesNavigation \n",
      "Direction to Hazelwood i.e. opposite Prospect Park Hospital main entrance but to the right could be made clearer,FacilitiesNavigation \n",
      "Clinic was difficult to find,FacilitiesNavigation</s>\n",
      "<|user|>\n",
      "Generate 10 very different comments for each of these categories: Cleanliness, FacilitiesNavigation, CommunicationContactDetails.Write these comments as if you were 10 various patient that went to see different medical specialists. The polarity, the topic, the form of the comments, and the experience of every patient must be very differents.</s>\n",
      "<|assistant|>\n",
      "Cleanliness: [Patient comment #1: \"Was very satisfied with your facility! Staff seemed knowledgeable about what tasks need to done on your unit/appropriately delegating duties for the day to prevent staff bloat\"].\n",
      "[Placement: On the side of 2 exam tables being attended to by a doctor & RN - I asked a reception to give me the address for a meeting the following day, despite it never opening, as I found it impossible to ask the nurse at bedroom adjoining their work area where it was.\" Comment #: Dirty floor had lots of dust and peeling yellow carpet. ]\n",
      "[Title: Cleanliness issue raised at 7 AM & staff did not apologize or offer anything to assist/clean the area promptly/following the issue & offer an effective clean solution to ensure sanitation continues after staff return from break.\" - I could hear staff at morning coffee, clearly unsatisfied with the day. Clean toilet and sink seemed spotless as there had only just got out of our hand luggage.]\n",
      "[Comments added] \"The lack of ventilation seemed to make breathing easy & helped keep me slightly warm at the temperature I was currently suffering while walking the grounds with the scant supply of warm blanket given.\" - \"However I would recommend they should clean any surfaces within 6 hours if there are staff breaks and we haven't done our laundry yet, that would have easily made all those staff's work last longer\" added.\n",
      "[Title: Room was stinking with bad smells from our food and medicines leaching the environment from previous patients.] - [It is uncomfortable to know food preparer or other assist will come to the sick place because the smell is too overpowering the environment. Moreover it smells after 4 PM when the patients are out]\n",
      "[Critical, serious, alarm tone, danger is high level indicated by 2. I had a heart attack on this very floor but had my medicated bag with me, it fell over and inhalators spit more medicine than breathes so i lost track when they all came down. I had to repeat each 3 times 4-5 x till my meds kit was full & I stopped feeling ok]\n",
      "[Clinic experience highlights ] \"We felt uncomfortable - very crowded. People at all ages\n"
     ]
    }
   ],
   "source": [
    "# Install transformers from source - only needed for versions <= v4.34\n",
    "# pip install git+https://github.com/huggingface/transformers.git\n",
    "# pip install accelerate\n",
    "\n",
    "import torch\n",
    "from transformers import pipeline\n",
    "\n",
    "pipe = pipeline(\"text-generation\", model=\"TinyLlama/TinyLlama-1.1B-Chat-v1.0\", torch_dtype=torch.bfloat16, device_map=\"auto\")\n",
    "\n",
    "# We use the tokenizer's chat template to format each message - see https://huggingface.co/docs/transformers/main/en/chat_templating\n",
    "messages = [\n",
    "    {\n",
    "        \"role\": \"system\",\n",
    "        \"content\": \"You are a chatbot who generate comments from users of an healthcare platform. \" + \n",
    "        \"Your objective is to produce comments that are representative of various categories of comments given by the user.\" +\n",
    "        \"Here are some examples of comments with their corresponding labels. They mean belong to several labels: \\n\" + \n",
    "        \"Wash and sanitise properly instead of doing it once.,Cleanliness \\n\" +\n",
    "        \"Been waiting for bin to be emptied and hasn't.,Cleanliness \\n\" +\n",
    "        \"Maybe have STR contacts number as only had the generic office number so i could have direct contact.,CommunicationContactDetails \\n\" +\n",
    "        \"Your channels of communication are old fashioned and out dated. Patients using district nursing services should have a named nurse and a mobile phone number for that nurse. Urgent communication should never rely on the 111 service There should be 24/7 365 phone access .,CommunicationContactDetails \\n\" +\n",
    "        \"Upon entering the building I was unsure which check in reception I should report to.,FacilitiesNavigation \\n\" +\n",
    "        \"Direction to Hazelwood i.e. opposite Prospect Park Hospital main entrance but to the right could be made clearer,FacilitiesNavigation \\n\" +\n",
    "        \"Clinic was difficult to find,FacilitiesNavigation\"\n",
    "    },\n",
    "    {\"role\": \"user\", \"content\": \"Generate 10 very different comments for each of these categories: Cleanliness, FacilitiesNavigation, CommunicationContactDetails.\" +\n",
    "     \"Write these comments as if you were 10 various patient that went to see different medical specialists. The polarity, the topic, the form of the comments, and the experience of every patient must be very differents.\"},\n",
    "]\n",
    "prompt = pipe.tokenizer.apply_chat_template(messages, tokenize=False, add_generation_prompt=True)\n",
    "outputs = pipe(prompt, max_new_tokens=512, do_sample=True, temperature=1.7, top_k=50, top_p=0.95)\n",
    "print(outputs[0][\"generated_text\"])"
   ]
  }
 ],
 "metadata": {
  "kernelspec": {
   "display_name": "iwgc",
   "language": "python",
   "name": "python3"
  },
  "language_info": {
   "codemirror_mode": {
    "name": "ipython",
    "version": 3
   },
   "file_extension": ".py",
   "mimetype": "text/x-python",
   "name": "python",
   "nbconvert_exporter": "python",
   "pygments_lexer": "ipython3",
   "version": "3.11.7"
  }
 },
 "nbformat": 4,
 "nbformat_minor": 2
}
