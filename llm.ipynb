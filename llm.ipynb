{
 "cells": [
  {
   "cell_type": "code",
   "execution_count": 15,
   "metadata": {},
   "outputs": [],
   "source": [
    "#!python -m pip install sentencepiece "
   ]
  },
  {
   "cell_type": "code",
   "execution_count": 1,
   "metadata": {},
   "outputs": [
    {
     "name": "stdout",
     "output_type": "stream",
     "text": [
      "       Question                                           freetext  \\\n",
      "0  Improvements  Wash and sanitise properly instead of doing it...   \n",
      "1  Improvements  Maybe have STR contacts number as only had the...   \n",
      "2  Improvements  Take on the problem, rather than rushing to di...   \n",
      "3  Improvements  Take on the problem, rather than rushing to di...   \n",
      "4  Improvements  Your channels of communication are old fashion...   \n",
      "\n",
      "                         Theme  \n",
      "0                  Cleanliness  \n",
      "1  CommunicationContactDetails  \n",
      "2         TreatmentIneffective  \n",
      "3              TreatmentRushed  \n",
      "4  CommunicationContactDetails  \n",
      "Index(['Question', 'freetext', 'Theme'], dtype='object')\n"
     ]
    }
   ],
   "source": [
    "import pandas as pd\n",
    "import numpy as np\n",
    "import matplotlib.pyplot as plt\n",
    "import torch\n",
    "from transformers import AutoTokenizer, AutoModelForSequenceClassification, TrainingArguments, Trainer, TextClassificationPipeline, RobertaForSequenceClassification\n",
    "from sklearn.model_selection import train_test_split\n",
    "from datasets import Dataset\n",
    "import evaluate\n",
    "\n",
    "# Load the data\n",
    "data_path = 'data/theming_data_iwgc_25_03_2024.xlsx'  # Update the path if needed\n",
    "data = pd.read_excel(data_path)\n",
    "print(data.head())\n",
    "print(data.columns)\n",
    "\n",
    "model_name = \"RobertaForSequenceClassification\"\n",
    "filename_model = \"./models/\" + model_name + \"/\""
   ]
  },
  {
   "cell_type": "code",
   "execution_count": 2,
   "metadata": {},
   "outputs": [],
   "source": [
    "def prepare_dataset(dataset, new_filename, text_column_name, label_column_name):\n",
    "    # dictionary of lists\n",
    "    dict_dataset = {'text': dataset[text_column_name], 'label': dataset[label_column_name]}\n",
    "    \n",
    "    df = pd.DataFrame(dict_dataset)\n",
    "        \n",
    "    # saving the dataframe\n",
    "    df.to_csv(new_filename)\n",
    "    return df\n",
    "\n",
    "df = prepare_dataset(data, 'theme.csv', 'freetext', 'Theme')"
   ]
  },
  {
   "cell_type": "code",
   "execution_count": 3,
   "metadata": {},
   "outputs": [
    {
     "data": {
      "text/html": [
       "<div>\n",
       "<style scoped>\n",
       "    .dataframe tbody tr th:only-of-type {\n",
       "        vertical-align: middle;\n",
       "    }\n",
       "\n",
       "    .dataframe tbody tr th {\n",
       "        vertical-align: top;\n",
       "    }\n",
       "\n",
       "    .dataframe thead th {\n",
       "        text-align: right;\n",
       "    }\n",
       "</style>\n",
       "<table border=\"1\" class=\"dataframe\">\n",
       "  <thead>\n",
       "    <tr style=\"text-align: right;\">\n",
       "      <th></th>\n",
       "      <th>text</th>\n",
       "      <th>label</th>\n",
       "    </tr>\n",
       "  </thead>\n",
       "  <tbody>\n",
       "    <tr>\n",
       "      <th>0</th>\n",
       "      <td>Wash and sanitise properly instead of doing it...</td>\n",
       "      <td>Cleanliness</td>\n",
       "    </tr>\n",
       "    <tr>\n",
       "      <th>1</th>\n",
       "      <td>Maybe have STR contacts number as only had the...</td>\n",
       "      <td>CommunicationContactDetails</td>\n",
       "    </tr>\n",
       "    <tr>\n",
       "      <th>2</th>\n",
       "      <td>Take on the problem, rather than rushing to di...</td>\n",
       "      <td>TreatmentIneffective</td>\n",
       "    </tr>\n",
       "    <tr>\n",
       "      <th>3</th>\n",
       "      <td>Take on the problem, rather than rushing to di...</td>\n",
       "      <td>TreatmentRushed</td>\n",
       "    </tr>\n",
       "    <tr>\n",
       "      <th>4</th>\n",
       "      <td>Your channels of communication are old fashion...</td>\n",
       "      <td>CommunicationContactDetails</td>\n",
       "    </tr>\n",
       "    <tr>\n",
       "      <th>5</th>\n",
       "      <td>Upon entering the building I was unsure which ...</td>\n",
       "      <td>FacilitiesNavigation</td>\n",
       "    </tr>\n",
       "    <tr>\n",
       "      <th>6</th>\n",
       "      <td>Pharmacy wait times \\nWaited nearly an hour fo...</td>\n",
       "      <td>TimeWaitingUnspecified</td>\n",
       "    </tr>\n",
       "    <tr>\n",
       "      <th>7</th>\n",
       "      <td>Pharmacy wait times \\nWaited nearly an hour fo...</td>\n",
       "      <td>TreatmentMedication</td>\n",
       "    </tr>\n",
       "    <tr>\n",
       "      <th>8</th>\n",
       "      <td>Better signage, when I first visited I could n...</td>\n",
       "      <td>FacilitiesNavigation</td>\n",
       "    </tr>\n",
       "    <tr>\n",
       "      <th>9</th>\n",
       "      <td>A receptionist on the desk would have helped!</td>\n",
       "      <td>StaffMore</td>\n",
       "    </tr>\n",
       "  </tbody>\n",
       "</table>\n",
       "</div>"
      ],
      "text/plain": [
       "                                                text  \\\n",
       "0  Wash and sanitise properly instead of doing it...   \n",
       "1  Maybe have STR contacts number as only had the...   \n",
       "2  Take on the problem, rather than rushing to di...   \n",
       "3  Take on the problem, rather than rushing to di...   \n",
       "4  Your channels of communication are old fashion...   \n",
       "5  Upon entering the building I was unsure which ...   \n",
       "6  Pharmacy wait times \\nWaited nearly an hour fo...   \n",
       "7  Pharmacy wait times \\nWaited nearly an hour fo...   \n",
       "8  Better signage, when I first visited I could n...   \n",
       "9      A receptionist on the desk would have helped!   \n",
       "\n",
       "                         label  \n",
       "0                  Cleanliness  \n",
       "1  CommunicationContactDetails  \n",
       "2         TreatmentIneffective  \n",
       "3              TreatmentRushed  \n",
       "4  CommunicationContactDetails  \n",
       "5         FacilitiesNavigation  \n",
       "6       TimeWaitingUnspecified  \n",
       "7          TreatmentMedication  \n",
       "8         FacilitiesNavigation  \n",
       "9                    StaffMore  "
      ]
     },
     "execution_count": 3,
     "metadata": {},
     "output_type": "execute_result"
    }
   ],
   "source": [
    "df.head(10)\n"
   ]
  },
  {
   "cell_type": "code",
   "execution_count": 4,
   "metadata": {},
   "outputs": [
    {
     "data": {
      "text/plain": [
       "Text(0.5, 1.0, 'Top 15 Distribution of Classes')"
      ]
     },
     "execution_count": 4,
     "metadata": {},
     "output_type": "execute_result"
    },
    {
     "data": {
      "image/png": "[encoded data removed]",
      "text/plain": [
       "<Figure size 1000x500 with 1 Axes>"
      ]
     },
     "metadata": {},
     "output_type": "display_data"
    }
   ],
   "source": [
    "plt.figure(figsize=(10, 5))\n",
    "num_labels = 15\n",
    "top_10_classes = df['label'].value_counts().head(num_labels)\n",
    "top_10_classes.plot(kind='bar')\n",
    "plt.ylabel('No. of datapoints')\n",
    "plt.title(f'Top {num_labels} Distribution of Classes')"
   ]
  },
  {
   "cell_type": "code",
   "execution_count": 171,
   "metadata": {},
   "outputs": [
    {
     "data": {
      "text/html": [
       "<div>\n",
       "<style scoped>\n",
       "    .dataframe tbody tr th:only-of-type {\n",
       "        vertical-align: middle;\n",
       "    }\n",
       "\n",
       "    .dataframe tbody tr th {\n",
       "        vertical-align: top;\n",
       "    }\n",
       "\n",
       "    .dataframe thead th {\n",
       "        text-align: right;\n",
       "    }\n",
       "</style>\n",
       "<table border=\"1\" class=\"dataframe\">\n",
       "  <thead>\n",
       "    <tr style=\"text-align: right;\">\n",
       "      <th></th>\n",
       "      <th>text</th>\n",
       "      <th>label</th>\n",
       "    </tr>\n",
       "  </thead>\n",
       "  <tbody>\n",
       "    <tr>\n",
       "      <th>6</th>\n",
       "      <td>Pharmacy wait times \\nWaited nearly an hour fo...</td>\n",
       "      <td>TimeWaitingUnspecified</td>\n",
       "    </tr>\n",
       "    <tr>\n",
       "      <th>13</th>\n",
       "      <td>to improve waiting time</td>\n",
       "      <td>TimeWaitingUnspecified</td>\n",
       "    </tr>\n",
       "    <tr>\n",
       "      <th>15</th>\n",
       "      <td>Giving the patient their diagnosis on paper ra...</td>\n",
       "      <td>CommunicationInformationForPatients</td>\n",
       "    </tr>\n",
       "    <tr>\n",
       "      <th>18</th>\n",
       "      <td>Surprised that there were only 3 appointments.</td>\n",
       "      <td>TreatmentMore</td>\n",
       "    </tr>\n",
       "    <tr>\n",
       "      <th>20</th>\n",
       "      <td>None really as far as District Nurses were con...</td>\n",
       "      <td>CommunicationWithPatients</td>\n",
       "    </tr>\n",
       "    <tr>\n",
       "      <th>...</th>\n",
       "      <td>...</td>\n",
       "      <td>...</td>\n",
       "    </tr>\n",
       "    <tr>\n",
       "      <th>44151</th>\n",
       "      <td>Initially, I was apprehensive about speaking t...</td>\n",
       "      <td>CommunicationWithPatients</td>\n",
       "    </tr>\n",
       "    <tr>\n",
       "      <th>44152</th>\n",
       "      <td>Initially, I was apprehensive about speaking t...</td>\n",
       "      <td>StaffListening</td>\n",
       "    </tr>\n",
       "    <tr>\n",
       "      <th>44153</th>\n",
       "      <td>The appointment was beneficial and I believe t...</td>\n",
       "      <td>StaffKnowledgeTraining</td>\n",
       "    </tr>\n",
       "    <tr>\n",
       "      <th>44154</th>\n",
       "      <td>The appointment was beneficial and I believe t...</td>\n",
       "      <td>StaffDignityRespect</td>\n",
       "    </tr>\n",
       "    <tr>\n",
       "      <th>44155</th>\n",
       "      <td>The appointment was beneficial and I believe t...</td>\n",
       "      <td>CommunicationWithPatients</td>\n",
       "    </tr>\n",
       "  </tbody>\n",
       "</table>\n",
       "<p>26065 rows × 2 columns</p>\n",
       "</div>"
      ],
      "text/plain": [
       "                                                    text  \\\n",
       "6      Pharmacy wait times \\nWaited nearly an hour fo...   \n",
       "13                               to improve waiting time   \n",
       "15     Giving the patient their diagnosis on paper ra...   \n",
       "18        Surprised that there were only 3 appointments.   \n",
       "20     None really as far as District Nurses were con...   \n",
       "...                                                  ...   \n",
       "44151  Initially, I was apprehensive about speaking t...   \n",
       "44152  Initially, I was apprehensive about speaking t...   \n",
       "44153  The appointment was beneficial and I believe t...   \n",
       "44154  The appointment was beneficial and I believe t...   \n",
       "44155  The appointment was beneficial and I believe t...   \n",
       "\n",
       "                                     label  \n",
       "6                   TimeWaitingUnspecified  \n",
       "13                  TimeWaitingUnspecified  \n",
       "15     CommunicationInformationForPatients  \n",
       "18                           TreatmentMore  \n",
       "20               CommunicationWithPatients  \n",
       "...                                    ...  \n",
       "44151            CommunicationWithPatients  \n",
       "44152                       StaffListening  \n",
       "44153               StaffKnowledgeTraining  \n",
       "44154                  StaffDignityRespect  \n",
       "44155            CommunicationWithPatients  \n",
       "\n",
       "[26065 rows x 2 columns]"
      ]
     },
     "execution_count": 171,
     "metadata": {},
     "output_type": "execute_result"
    }
   ],
   "source": [
    "def keep_top_n_classes(df, num_labels):\n",
    "    df = df.loc[df['label'].isin(df['label'].value_counts().head(num_labels).index)]\n",
    "    return df\n",
    "top_df = keep_top_n_classes(df, num_labels)\n",
    "top_df\n"
   ]
  },
  {
   "cell_type": "code",
   "execution_count": 172,
   "metadata": {},
   "outputs": [
    {
     "name": "stdout",
     "output_type": "stream",
     "text": [
      "ici\n",
      "['TimeWaitingUnspecified' 'CommunicationInformationForPatients'\n",
      " 'TreatmentMore' 'CommunicationWithPatients' 'StaffAvailability'\n",
      " 'StaffKnowledgeTraining' 'StaffProfessionalism' 'StaffListening'\n",
      " 'StaffDignityRespect' 'TreatmentTailored' 'StaffApproachable' 'StaffCare'\n",
      " 'CommunicationInformation' 'StaffUnspecified' 'StaffReassured']\n",
      "0 TimeWaitingUnspecified\n",
      "1 CommunicationInformationForPatients\n",
      "2 TreatmentMore\n",
      "3 CommunicationWithPatients\n",
      "4 StaffAvailability\n",
      "5 StaffKnowledgeTraining\n",
      "6 StaffProfessionalism\n",
      "7 StaffListening\n",
      "8 StaffDignityRespect\n",
      "9 TreatmentTailored\n",
      "10 StaffApproachable\n",
      "11 StaffCare\n",
      "12 CommunicationInformation\n",
      "13 StaffUnspecified\n",
      "14 StaffReassured\n"
     ]
    },
    {
     "name": "stderr",
     "output_type": "stream",
     "text": [
      "C:\\Users\\Julien Delaunay\\AppData\\Local\\Temp\\ipykernel_20992\\1782750260.py:7: SettingWithCopyWarning: \n",
      "A value is trying to be set on a copy of a slice from a DataFrame\n",
      "\n",
      "See the caveats in the documentation: https://pandas.pydata.org/pandas-docs/stable/user_guide/indexing.html#returning-a-view-versus-a-copy\n",
      "  df['label'].replace({label:i}, inplace=True)\n"
     ]
    },
    {
     "data": {
      "text/plain": [
       "6     0\n",
       "13    0\n",
       "15    1\n",
       "18    2\n",
       "20    3\n",
       "Name: label, dtype: int64"
      ]
     },
     "execution_count": 172,
     "metadata": {},
     "output_type": "execute_result"
    }
   ],
   "source": [
    "def convert_labels_to_int(df):\n",
    "    print(df['label'].unique())\n",
    "    original_labels = {}\n",
    "    for i, label in enumerate(df['label'].unique()):\n",
    "        print(i, label)\n",
    "        original_labels[i] = label\n",
    "        df['label'].replace({label:i}, inplace=True)\n",
    "    return df, original_labels\n",
    "\n",
    "if top_df['label'].dtype == 'object':\n",
    "    print('ici')\n",
    "    top_df, original_labels = convert_labels_to_int(top_df)\n",
    "top_df['label'].head()"
   ]
  },
  {
   "cell_type": "code",
   "execution_count": 7,
   "metadata": {},
   "outputs": [
    {
     "name": "stderr",
     "output_type": "stream",
     "text": [
      "C:\\Users\\Julien Delaunay\\AppData\\Local\\Temp\\ipykernel_20992\\1800316103.py:1: SettingWithCopyWarning: \n",
      "A value is trying to be set on a copy of a slice from a DataFrame\n",
      "\n",
      "See the caveats in the documentation: https://pandas.pydata.org/pandas-docs/stable/user_guide/indexing.html#returning-a-view-versus-a-copy\n",
      "  top_df.dropna(inplace=True)\n"
     ]
    },
    {
     "data": {
      "text/html": [
       "<div>\n",
       "<style scoped>\n",
       "    .dataframe tbody tr th:only-of-type {\n",
       "        vertical-align: middle;\n",
       "    }\n",
       "\n",
       "    .dataframe tbody tr th {\n",
       "        vertical-align: top;\n",
       "    }\n",
       "\n",
       "    .dataframe thead th {\n",
       "        text-align: right;\n",
       "    }\n",
       "</style>\n",
       "<table border=\"1\" class=\"dataframe\">\n",
       "  <thead>\n",
       "    <tr style=\"text-align: right;\">\n",
       "      <th></th>\n",
       "      <th>text</th>\n",
       "      <th>label</th>\n",
       "    </tr>\n",
       "  </thead>\n",
       "  <tbody>\n",
       "    <tr>\n",
       "      <th>6</th>\n",
       "      <td>Pharmacy wait times \\nWaited nearly an hour fo...</td>\n",
       "      <td>0</td>\n",
       "    </tr>\n",
       "    <tr>\n",
       "      <th>13</th>\n",
       "      <td>to improve waiting time</td>\n",
       "      <td>0</td>\n",
       "    </tr>\n",
       "    <tr>\n",
       "      <th>15</th>\n",
       "      <td>Giving the patient their diagnosis on paper ra...</td>\n",
       "      <td>1</td>\n",
       "    </tr>\n",
       "    <tr>\n",
       "      <th>18</th>\n",
       "      <td>Surprised that there were only 3 appointments.</td>\n",
       "      <td>2</td>\n",
       "    </tr>\n",
       "    <tr>\n",
       "      <th>20</th>\n",
       "      <td>None really as far as District Nurses were con...</td>\n",
       "      <td>3</td>\n",
       "    </tr>\n",
       "  </tbody>\n",
       "</table>\n",
       "</div>"
      ],
      "text/plain": [
       "                                                 text  label\n",
       "6   Pharmacy wait times \\nWaited nearly an hour fo...      0\n",
       "13                            to improve waiting time      0\n",
       "15  Giving the patient their diagnosis on paper ra...      1\n",
       "18     Surprised that there were only 3 appointments.      2\n",
       "20  None really as far as District Nurses were con...      3"
      ]
     },
     "execution_count": 7,
     "metadata": {},
     "output_type": "execute_result"
    }
   ],
   "source": [
    "top_df.dropna(inplace=True)\n",
    "top_df.head()"
   ]
  },
  {
   "cell_type": "code",
   "execution_count": 38,
   "metadata": {},
   "outputs": [],
   "source": [
    "multi_labels_df = pd.read_csv('multi-label-theme.csv')\n",
    "multi_labels_df.drop(['Unnamed: 0'], axis=1, inplace=True)\n",
    "\n",
    "temp_labels = multi_labels_df['label']\n",
    "new_labels = []\n",
    "for list_labels in temp_labels:\n",
    "    labels = list_labels[1:-1]\n",
    "    labels = labels.replace('.', '')\n",
    "    new_list_labels = []\n",
    "    for label in labels:\n",
    "        if label != ' ':\n",
    "            new_list_labels.append(float(label))\n",
    "    new_labels.append(new_list_labels)\n",
    "multi_labels_df['label'] = new_labels"
   ]
  },
  {
   "cell_type": "code",
   "execution_count": 42,
   "metadata": {},
   "outputs": [
    {
     "data": {
      "application/vnd.jupyter.widget-view+json": {
       "model_id": "c86dcc119ceb41ecbb4c94f881bcfb11",
       "version_major": 2,
       "version_minor": 0
      },
      "text/plain": [
       "Map:   0%|          | 0/3350 [00:00<?, ? examples/s]"
      ]
     },
     "metadata": {},
     "output_type": "display_data"
    },
    {
     "data": {
      "application/vnd.jupyter.widget-view+json": {
       "model_id": "4665a28e7de74deea453d6bd11705c3c",
       "version_major": 2,
       "version_minor": 0
      },
      "text/plain": [
       "Map:   0%|          | 0/1650 [00:00<?, ? examples/s]"
      ]
     },
     "metadata": {},
     "output_type": "display_data"
    },
    {
     "name": "stdout",
     "output_type": "stream",
     "text": [
      "downloading ./models/RobertaForSequenceClassification/\n"
     ]
    }
   ],
   "source": [
    "tokenizer = AutoTokenizer.from_pretrained(\"cardiffnlp/twitter-roberta-base-emotion-multilabel-latest\", max_len= 512)\n",
    "#tokenizer = AutoTokenizer.from_pretrained(\"facebook/roberta-hate-speech-dynabench-r4-target\")\n",
    "\n",
    "def tokenize_function(examples):\n",
    "    return tokenizer(examples[\"text\"], padding=\"max_length\", truncation=True)\n",
    "\n",
    "train_df, test_df = train_test_split(multi_labels_df[:5000], test_size=0.33, random_state=42)\n",
    "train_df =  Dataset.from_pandas(train_df)\n",
    "test_df =  Dataset.from_pandas(test_df)\n",
    "train_df = train_df.map(tokenize_function, batched=True)\n",
    "test_df = test_df.map(tokenize_function, batched=True)\n",
    "    \n",
    "try:\n",
    "    model = AutoModelForSequenceClassification.from_pretrained(filename_model)\n",
    "    print(\"downloading\", filename_model)\n",
    "except Exception as e:\n",
    "    if \"Roberta\" in filename_model:\n",
    "        model = RobertaForSequenceClassification.from_pretrained(\"cardiffnlp/twitter-roberta-base-emotion-multilabel-latest\", problem_type=\"multi_label_classification\",\n",
    "                                                         ignore_mismatched_sizes=True, num_labels=num_labels)\n",
    "        print(\"downloading Roberta model\")\n",
    "    else:\n",
    "        model = AutoModelForSequenceClassification.from_pretrained(\"bert-base-cased\", num_labels=num_labels)\n",
    "        print(\"downloading BERT model\")\n"
   ]
  },
  {
   "cell_type": "code",
   "execution_count": 44,
   "metadata": {},
   "outputs": [],
   "source": [
    "from transformers import DataCollatorWithPadding\n",
    "from sklearn.metrics import classification_report\n",
    "\n",
    "def train_model(model, train, test, filename_model):\n",
    "    def multi_label_sigmoid(logits):\n",
    "        \"\"\"\n",
    "        Applies sigmoid to each entry along the last dimension (-1) and then sets negative values to zero.\n",
    "        \"\"\"\n",
    "        sigmoid_activation = 1 / (1 + np.exp(-logits))\n",
    "        #positive_ratio = np.count_nonzero(sigmoid_activation > 0.5) / sigmoid_activation.size\n",
    "        #sigmoid_activation[(sigmoid_activation <= 0) | (sigmoid_activation >= positive_ratio)] = 0\n",
    "        sigmoid_activation[sigmoid_activation < 0.25] = 0\n",
    "        sigmoid_activation[sigmoid_activation >= 0.25] = 1\n",
    "        return sigmoid_activation\n",
    "\n",
    "    data_collator = DataCollatorWithPadding(tokenizer=tokenizer)\n",
    "    clf_metrics = evaluate.combine([\"accuracy\", \"f1\", \"precision\", \"recall\"])\n",
    "\n",
    "    def compute_metrics(eval_pred):\n",
    "        predictions, labels = eval_pred\n",
    "        predictions = multi_label_sigmoid(predictions)\n",
    "        assert predictions.shape[0] == labels.shape[0], \"Mismatched lengths between predictions and labels.\"\n",
    "        #print('report', classification_report(predictions, labels))\n",
    "        metrics = []\n",
    "        test_metrics = {}\n",
    "        all_metrics = [\"accuracy\", \"f1\", \"precision\", \"recall\"]\n",
    "        for metric in all_metrics:\n",
    "            test_metrics[metric] = []\n",
    "        \n",
    "        for i in range(labels.shape[1]):\n",
    "            temp_metric = clf_metrics.compute(predictions[:, i], labels[:, i])\n",
    "            for metric in all_metrics:\n",
    "                test_metrics[metric].append(temp_metric[metric])\n",
    "            metrics.append(temp_metric)\n",
    "        \n",
    "        for metric in all_metrics:\n",
    "            test_metrics[metric] = sum(test_metrics[metric]) / len(test_metrics[metric])\n",
    "        print('metrics', test_metrics)\n",
    "        return test_metrics\n",
    "\n",
    "    training_args = TrainingArguments(\n",
    "                output_dir=\"test_trainer\",\n",
    "                #learning_rate=2e-5,\n",
    "                learning_rate=2e-3,\n",
    "                per_device_train_batch_size=3,\n",
    "                per_device_eval_batch_size=3,\n",
    "                num_train_epochs=2,\n",
    "                #weight_decay=0.01,\n",
    "                weight_decay=0.05,\n",
    "                evaluation_strategy=\"epoch\",\n",
    "                save_strategy=\"epoch\",\n",
    "                load_best_model_at_end=True,\n",
    "    )\n",
    "\n",
    "    trainer = Trainer(\n",
    "                model=model,\n",
    "                args=training_args,\n",
    "                train_dataset=train,\n",
    "                eval_dataset=test,\n",
    "                tokenizer=tokenizer,\n",
    "                data_collator=data_collator,\n",
    "                compute_metrics=compute_metrics,\n",
    "    )\n",
    "    trainer.train()\n",
    "    trainer.save_model(filename_model)\n",
    "    \n"
   ]
  },
  {
   "cell_type": "code",
   "execution_count": 45,
   "metadata": {},
   "outputs": [
    {
     "name": "stderr",
     "output_type": "stream",
     "text": [
      "c:\\Users\\Julien Delaunay\\.conda\\envs\\iwgc\\Lib\\site-packages\\accelerate\\accelerator.py:432: FutureWarning: Passing the following arguments to `Accelerator` is deprecated and will be removed in version 1.0 of Accelerate: dict_keys(['dispatch_batches', 'split_batches', 'even_batches', 'use_seedable_sampler']). Please pass an `accelerate.DataLoaderConfiguration` instead: \n",
      "dataloader_config = DataLoaderConfiguration(dispatch_batches=None, split_batches=False, even_batches=True, use_seedable_sampler=True)\n",
      "  warnings.warn(\n"
     ]
    },
    {
     "data": {
      "application/vnd.jupyter.widget-view+json": {
       "model_id": "a0d488905d84427b8848dc53787f0712",
       "version_major": 2,
       "version_minor": 0
      },
      "text/plain": [
       "  0%|          | 0/2234 [00:00<?, ?it/s]"
      ]
     },
     "metadata": {},
     "output_type": "display_data"
    },
    {
     "name": "stdout",
     "output_type": "stream",
     "text": [
      "{'loss': 0.3751, 'grad_norm': 1.1316250562667847, 'learning_rate': 0.0015523724261414502, 'epoch': 0.45}\n",
      "{'loss': 0.34, 'grad_norm': 1.5961205959320068, 'learning_rate': 0.0011047448522829007, 'epoch': 0.9}\n"
     ]
    },
    {
     "data": {
      "application/vnd.jupyter.widget-view+json": {
       "model_id": "f455445d46174a358297d3238ea15f28",
       "version_major": 2,
       "version_minor": 0
      },
      "text/plain": [
       "  0%|          | 0/550 [00:00<?, ?it/s]"
      ]
     },
     "metadata": {},
     "output_type": "display_data"
    },
    {
     "name": "stderr",
     "output_type": "stream",
     "text": [
      "c:\\Users\\Julien Delaunay\\.conda\\envs\\iwgc\\Lib\\site-packages\\sklearn\\metrics\\_classification.py:1344: UndefinedMetricWarning: Precision is ill-defined and being set to 0.0 due to no predicted samples. Use `zero_division` parameter to control this behavior.\n",
      "  _warn_prf(average, modifier, msg_start, len(result))\n",
      "c:\\Users\\Julien Delaunay\\.conda\\envs\\iwgc\\Lib\\site-packages\\sklearn\\metrics\\_classification.py:1344: UndefinedMetricWarning: Precision is ill-defined and being set to 0.0 due to no predicted samples. Use `zero_division` parameter to control this behavior.\n",
      "  _warn_prf(average, modifier, msg_start, len(result))\n",
      "c:\\Users\\Julien Delaunay\\.conda\\envs\\iwgc\\Lib\\site-packages\\sklearn\\metrics\\_classification.py:1344: UndefinedMetricWarning: Precision is ill-defined and being set to 0.0 due to no predicted samples. Use `zero_division` parameter to control this behavior.\n",
      "  _warn_prf(average, modifier, msg_start, len(result))\n",
      "c:\\Users\\Julien Delaunay\\.conda\\envs\\iwgc\\Lib\\site-packages\\sklearn\\metrics\\_classification.py:1344: UndefinedMetricWarning: Precision is ill-defined and being set to 0.0 due to no predicted samples. Use `zero_division` parameter to control this behavior.\n",
      "  _warn_prf(average, modifier, msg_start, len(result))\n",
      "c:\\Users\\Julien Delaunay\\.conda\\envs\\iwgc\\Lib\\site-packages\\sklearn\\metrics\\_classification.py:1344: UndefinedMetricWarning: Precision is ill-defined and being set to 0.0 due to no predicted samples. Use `zero_division` parameter to control this behavior.\n",
      "  _warn_prf(average, modifier, msg_start, len(result))\n",
      "c:\\Users\\Julien Delaunay\\.conda\\envs\\iwgc\\Lib\\site-packages\\sklearn\\metrics\\_classification.py:1344: UndefinedMetricWarning: Precision is ill-defined and being set to 0.0 due to no predicted samples. Use `zero_division` parameter to control this behavior.\n",
      "  _warn_prf(average, modifier, msg_start, len(result))\n",
      "c:\\Users\\Julien Delaunay\\.conda\\envs\\iwgc\\Lib\\site-packages\\sklearn\\metrics\\_classification.py:1344: UndefinedMetricWarning: Precision is ill-defined and being set to 0.0 due to no predicted samples. Use `zero_division` parameter to control this behavior.\n",
      "  _warn_prf(average, modifier, msg_start, len(result))\n",
      "c:\\Users\\Julien Delaunay\\.conda\\envs\\iwgc\\Lib\\site-packages\\sklearn\\metrics\\_classification.py:1344: UndefinedMetricWarning: Precision is ill-defined and being set to 0.0 due to no predicted samples. Use `zero_division` parameter to control this behavior.\n",
      "  _warn_prf(average, modifier, msg_start, len(result))\n",
      "c:\\Users\\Julien Delaunay\\.conda\\envs\\iwgc\\Lib\\site-packages\\sklearn\\metrics\\_classification.py:1344: UndefinedMetricWarning: Precision is ill-defined and being set to 0.0 due to no predicted samples. Use `zero_division` parameter to control this behavior.\n",
      "  _warn_prf(average, modifier, msg_start, len(result))\n",
      "c:\\Users\\Julien Delaunay\\.conda\\envs\\iwgc\\Lib\\site-packages\\sklearn\\metrics\\_classification.py:1344: UndefinedMetricWarning: Precision is ill-defined and being set to 0.0 due to no predicted samples. Use `zero_division` parameter to control this behavior.\n",
      "  _warn_prf(average, modifier, msg_start, len(result))\n",
      "c:\\Users\\Julien Delaunay\\.conda\\envs\\iwgc\\Lib\\site-packages\\sklearn\\metrics\\_classification.py:1344: UndefinedMetricWarning: Precision is ill-defined and being set to 0.0 due to no predicted samples. Use `zero_division` parameter to control this behavior.\n",
      "  _warn_prf(average, modifier, msg_start, len(result))\n",
      "c:\\Users\\Julien Delaunay\\.conda\\envs\\iwgc\\Lib\\site-packages\\sklearn\\metrics\\_classification.py:1344: UndefinedMetricWarning: Precision is ill-defined and being set to 0.0 due to no predicted samples. Use `zero_division` parameter to control this behavior.\n",
      "  _warn_prf(average, modifier, msg_start, len(result))\n",
      "c:\\Users\\Julien Delaunay\\.conda\\envs\\iwgc\\Lib\\site-packages\\sklearn\\metrics\\_classification.py:1344: UndefinedMetricWarning: Precision is ill-defined and being set to 0.0 due to no predicted samples. Use `zero_division` parameter to control this behavior.\n",
      "  _warn_prf(average, modifier, msg_start, len(result))\n",
      "c:\\Users\\Julien Delaunay\\.conda\\envs\\iwgc\\Lib\\site-packages\\sklearn\\metrics\\_classification.py:1344: UndefinedMetricWarning: Precision is ill-defined and being set to 0.0 due to no predicted samples. Use `zero_division` parameter to control this behavior.\n",
      "  _warn_prf(average, modifier, msg_start, len(result))\n"
     ]
    },
    {
     "name": "stdout",
     "output_type": "stream",
     "text": [
      "metrics {'accuracy': 0.8794747474747476, 'f1': 0.033469511272507184, 'precision': 0.022343434343434342, 'recall': 0.06666666666666667}\n",
      "{'eval_loss': 0.35607296228408813, 'eval_accuracy': 0.8794747474747476, 'eval_f1': 0.033469511272507184, 'eval_precision': 0.022343434343434342, 'eval_recall': 0.06666666666666667, 'eval_runtime': 57661.9871, 'eval_samples_per_second': 0.029, 'eval_steps_per_second': 0.01, 'epoch': 1.0}\n",
      "{'loss': 0.3371, 'grad_norm': 1.2625782489776611, 'learning_rate': 0.000657117278424351, 'epoch': 1.34}\n",
      "{'loss': 0.3074, 'grad_norm': 1.0326229333877563, 'learning_rate': 0.00020948970456580128, 'epoch': 1.79}\n"
     ]
    },
    {
     "data": {
      "application/vnd.jupyter.widget-view+json": {
       "model_id": "ba40c5711db148fe8c56aeb81fc521bd",
       "version_major": 2,
       "version_minor": 0
      },
      "text/plain": [
       "  0%|          | 0/550 [00:00<?, ?it/s]"
      ]
     },
     "metadata": {},
     "output_type": "display_data"
    },
    {
     "name": "stderr",
     "output_type": "stream",
     "text": [
      "c:\\Users\\Julien Delaunay\\.conda\\envs\\iwgc\\Lib\\site-packages\\sklearn\\metrics\\_classification.py:1344: UndefinedMetricWarning: Precision is ill-defined and being set to 0.0 due to no predicted samples. Use `zero_division` parameter to control this behavior.\n",
      "  _warn_prf(average, modifier, msg_start, len(result))\n",
      "c:\\Users\\Julien Delaunay\\.conda\\envs\\iwgc\\Lib\\site-packages\\sklearn\\metrics\\_classification.py:1344: UndefinedMetricWarning: Precision is ill-defined and being set to 0.0 due to no predicted samples. Use `zero_division` parameter to control this behavior.\n",
      "  _warn_prf(average, modifier, msg_start, len(result))\n",
      "c:\\Users\\Julien Delaunay\\.conda\\envs\\iwgc\\Lib\\site-packages\\sklearn\\metrics\\_classification.py:1344: UndefinedMetricWarning: Precision is ill-defined and being set to 0.0 due to no predicted samples. Use `zero_division` parameter to control this behavior.\n",
      "  _warn_prf(average, modifier, msg_start, len(result))\n",
      "c:\\Users\\Julien Delaunay\\.conda\\envs\\iwgc\\Lib\\site-packages\\sklearn\\metrics\\_classification.py:1344: UndefinedMetricWarning: Precision is ill-defined and being set to 0.0 due to no predicted samples. Use `zero_division` parameter to control this behavior.\n",
      "  _warn_prf(average, modifier, msg_start, len(result))\n",
      "c:\\Users\\Julien Delaunay\\.conda\\envs\\iwgc\\Lib\\site-packages\\sklearn\\metrics\\_classification.py:1344: UndefinedMetricWarning: Precision is ill-defined and being set to 0.0 due to no predicted samples. Use `zero_division` parameter to control this behavior.\n",
      "  _warn_prf(average, modifier, msg_start, len(result))\n",
      "c:\\Users\\Julien Delaunay\\.conda\\envs\\iwgc\\Lib\\site-packages\\sklearn\\metrics\\_classification.py:1344: UndefinedMetricWarning: Precision is ill-defined and being set to 0.0 due to no predicted samples. Use `zero_division` parameter to control this behavior.\n",
      "  _warn_prf(average, modifier, msg_start, len(result))\n",
      "c:\\Users\\Julien Delaunay\\.conda\\envs\\iwgc\\Lib\\site-packages\\sklearn\\metrics\\_classification.py:1344: UndefinedMetricWarning: Precision is ill-defined and being set to 0.0 due to no predicted samples. Use `zero_division` parameter to control this behavior.\n",
      "  _warn_prf(average, modifier, msg_start, len(result))\n",
      "c:\\Users\\Julien Delaunay\\.conda\\envs\\iwgc\\Lib\\site-packages\\sklearn\\metrics\\_classification.py:1344: UndefinedMetricWarning: Precision is ill-defined and being set to 0.0 due to no predicted samples. Use `zero_division` parameter to control this behavior.\n",
      "  _warn_prf(average, modifier, msg_start, len(result))\n",
      "c:\\Users\\Julien Delaunay\\.conda\\envs\\iwgc\\Lib\\site-packages\\sklearn\\metrics\\_classification.py:1344: UndefinedMetricWarning: Precision is ill-defined and being set to 0.0 due to no predicted samples. Use `zero_division` parameter to control this behavior.\n",
      "  _warn_prf(average, modifier, msg_start, len(result))\n",
      "c:\\Users\\Julien Delaunay\\.conda\\envs\\iwgc\\Lib\\site-packages\\sklearn\\metrics\\_classification.py:1344: UndefinedMetricWarning: Precision is ill-defined and being set to 0.0 due to no predicted samples. Use `zero_division` parameter to control this behavior.\n",
      "  _warn_prf(average, modifier, msg_start, len(result))\n",
      "c:\\Users\\Julien Delaunay\\.conda\\envs\\iwgc\\Lib\\site-packages\\sklearn\\metrics\\_classification.py:1344: UndefinedMetricWarning: Precision is ill-defined and being set to 0.0 due to no predicted samples. Use `zero_division` parameter to control this behavior.\n",
      "  _warn_prf(average, modifier, msg_start, len(result))\n",
      "c:\\Users\\Julien Delaunay\\.conda\\envs\\iwgc\\Lib\\site-packages\\sklearn\\metrics\\_classification.py:1344: UndefinedMetricWarning: Precision is ill-defined and being set to 0.0 due to no predicted samples. Use `zero_division` parameter to control this behavior.\n",
      "  _warn_prf(average, modifier, msg_start, len(result))\n",
      "c:\\Users\\Julien Delaunay\\.conda\\envs\\iwgc\\Lib\\site-packages\\sklearn\\metrics\\_classification.py:1344: UndefinedMetricWarning: Precision is ill-defined and being set to 0.0 due to no predicted samples. Use `zero_division` parameter to control this behavior.\n",
      "  _warn_prf(average, modifier, msg_start, len(result))\n",
      "c:\\Users\\Julien Delaunay\\.conda\\envs\\iwgc\\Lib\\site-packages\\sklearn\\metrics\\_classification.py:1344: UndefinedMetricWarning: Precision is ill-defined and being set to 0.0 due to no predicted samples. Use `zero_division` parameter to control this behavior.\n",
      "  _warn_prf(average, modifier, msg_start, len(result))\n"
     ]
    },
    {
     "name": "stdout",
     "output_type": "stream",
     "text": [
      "metrics {'accuracy': 0.8794747474747476, 'f1': 0.033469511272507184, 'precision': 0.022343434343434342, 'recall': 0.06666666666666667}\n",
      "{'eval_loss': 0.29576393961906433, 'eval_accuracy': 0.8794747474747476, 'eval_f1': 0.033469511272507184, 'eval_precision': 0.022343434343434342, 'eval_recall': 0.06666666666666667, 'eval_runtime': 2346.9382, 'eval_samples_per_second': 0.703, 'eval_steps_per_second': 0.234, 'epoch': 2.0}\n",
      "{'train_runtime': 85403.7019, 'train_samples_per_second': 0.078, 'train_steps_per_second': 0.026, 'train_loss': 0.33673748333964265, 'epoch': 2.0}\n"
     ]
    }
   ],
   "source": [
    "train_model(model, train_df, test_df, filename_model)"
   ]
  },
  {
   "cell_type": "code",
   "execution_count": 46,
   "metadata": {},
   "outputs": [],
   "source": [
    "test_model = RobertaForSequenceClassification.from_pretrained(\"./models/RobertaForSequenceClassification/\", problem_type=\"multi_label_classification\",\n",
    "                                                         ignore_mismatched_sizes=True, num_labels=num_labels)"
   ]
  },
  {
   "cell_type": "code",
   "execution_count": 174,
   "metadata": {},
   "outputs": [],
   "source": [
    "def accuracy(predicted_class_ids, true_labels):\n",
    "    def flat_accuracy(predicted_class_ids, true_labels):\n",
    "        if isinstance(true_labels, torch.Tensor):\n",
    "            true_labels = true_labels.bool()\n",
    "        correct_predictions = torch.eq(predicted_class_ids, true_labels).float()\n",
    "        total_correct = torch.sum(correct_predictions)\n",
    "        total_elements = torch.numel(true_labels)\n",
    "        return total_correct / total_elements\n",
    "\n",
    "    inner_accuracies = [flat_accuracy(predicted_class_ids[i], true_labels[i]) for i in range(len(predicted_class_ids))]\n",
    "\n",
    "    return sum(inner_accuracies) / len(inner_accuracies)"
   ]
  },
  {
   "cell_type": "code",
   "execution_count": 173,
   "metadata": {},
   "outputs": [
    {
     "name": "stdout",
     "output_type": "stream",
     "text": [
      "Accuracy Score: 96.67%\n"
     ]
    }
   ],
   "source": [
    "input_texts = [\"This doctor is very good as he answers all my trouble with confidence. Moreover, I observed that the furniture are well organized. Thanks for all\",\n",
    "                   'STOP']\n",
    "inputs = tokenizer(input_texts, padding=True, truncation=True, return_tensors=\"pt\")\n",
    "\n",
    "with torch.no_grad():\n",
    "    logits = model(**inputs).logits\n",
    "\n",
    "broadcast_shape = (len(input_texts), logits.shape[-1])\n",
    "broadcast_sigmoid = torch.sigmoid(logits).expand(broadcast_shape)\n",
    "filtered_sigmoid = broadcast_sigmoid > 0.1\n",
    "\n",
    "#predicted_class_ids = torch.arange(logits.shape[-1]).unsqueeze(0).repeat(len(input_texts), 1)\n",
    "#selected_class_ids = predicted_class_ids[filtered_sigmoid]\n",
    "\n",
    "actual_labels = torch.zeros(len(input_texts), num_labels).long()\n",
    "labels = [[3, 10, 11], [3, 10]]\n",
    "for i, label in enumerate(labels):\n",
    "    actual_labels[i, label] = 1\n",
    "\n",
    "accuracy_score = accuracy(filtered_sigmoid, actual_labels)\n",
    "print(f\"Accuracy Score: {accuracy_score.item() * 100:.2f}%\")\n"
   ]
  },
  {
   "cell_type": "code",
   "execution_count": 183,
   "metadata": {},
   "outputs": [
    {
     "name": "stdout",
     "output_type": "stream",
     "text": [
      "[['CommunicationWithPatients', 'StaffApproachable', 'StaffCare'], ['CommunicationWithPatients', 'StaffApproachable', 'StaffCare']]\n"
     ]
    },
    {
     "data": {
      "text/plain": [
       "[['TimeWaitingUnspecified',\n",
       "  'CommunicationInformationForPatients',\n",
       "  'TreatmentMore'],\n",
       " ['TimeWaitingUnspecified', 'CommunicationInformationForPatients']]"
      ]
     },
     "execution_count": 183,
     "metadata": {},
     "output_type": "execute_result"
    }
   ],
   "source": [
    "def convert_labels_to_text(labels, original_labels):\n",
    "    predicted_classes = []\n",
    "    for label_text in labels:\n",
    "        predicted_class = []\n",
    "        for index, label in enumerate(label_text):\n",
    "            if label:\n",
    "                predicted_class.append(original_labels[index])\n",
    "        predicted_classes.append(predicted_class)\n",
    "    return predicted_classes\n",
    "print(convert_labels_to_text(filtered_sigmoid, original_labels))\n",
    "convert_labels_to_text(labels, original_labels)"
   ]
  },
  {
   "cell_type": "code",
   "execution_count": 16,
   "metadata": {},
   "outputs": [],
   "source": [
    "# Binary Classifier\n",
    "def train_model(model, train, test, filename_model):\n",
    "    metric = evaluate.load(\"accuracy\")\n",
    "    def compute_metrics(eval_pred):\n",
    "        logits, labels = eval_pred\n",
    "        predictions = np.argmax(logits, axis=-1)\n",
    "        return metric.compute(predictions=predictions, references=labels)\n",
    "\n",
    "    training_args = TrainingArguments(output_dir=\"test_trainer\", evaluation_strategy=\"epoch\")\n",
    "    trainer = Trainer(\n",
    "        model=model,\n",
    "        args=training_args,\n",
    "        train_dataset=train,\n",
    "        eval_dataset=test,\n",
    "        compute_metrics=compute_metrics,\n",
    "    )\n",
    "    \n",
    "    trainer.train()\n",
    "    trainer.save_model(filename_model)\n",
    "    "
   ]
  },
  {
   "cell_type": "code",
   "execution_count": 12,
   "metadata": {},
   "outputs": [],
   "source": [
    "#train_model(model, train_df, test_df, filename_model)"
   ]
  }
 ],
 "metadata": {
  "kernelspec": {
   "display_name": "Python 3",
   "language": "python",
   "name": "python3"
  },
  "language_info": {
   "codemirror_mode": {
    "name": "ipython",
    "version": 3
   },
   "file_extension": ".py",
   "mimetype": "text/x-python",
   "name": "python",
   "nbconvert_exporter": "python",
   "pygments_lexer": "ipython3",
   "version": "3.11.7"
  }
 },
 "nbformat": 4,
 "nbformat_minor": 2
}
